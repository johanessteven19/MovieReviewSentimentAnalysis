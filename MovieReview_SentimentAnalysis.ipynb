{
 "cells": [
  {
   "attachments": {},
   "cell_type": "markdown",
   "id": "89067521",
   "metadata": {},
   "source": [
    "## 1. Data Preparation"
   ]
  },
  {
   "cell_type": "code",
   "execution_count": 904,
   "id": "eac5329c",
   "metadata": {},
   "outputs": [
    {
     "data": {
      "text/html": [
       "<div>\n",
       "<style scoped>\n",
       "    .dataframe tbody tr th:only-of-type {\n",
       "        vertical-align: middle;\n",
       "    }\n",
       "\n",
       "    .dataframe tbody tr th {\n",
       "        vertical-align: top;\n",
       "    }\n",
       "\n",
       "    .dataframe thead th {\n",
       "        text-align: right;\n",
       "    }\n",
       "</style>\n",
       "<table border=\"1\" class=\"dataframe\">\n",
       "  <thead>\n",
       "    <tr style=\"text-align: right;\">\n",
       "      <th></th>\n",
       "      <th>Id</th>\n",
       "      <th>ProductId</th>\n",
       "      <th>UserId</th>\n",
       "      <th>Score</th>\n",
       "      <th>Summary</th>\n",
       "      <th>Text</th>\n",
       "    </tr>\n",
       "  </thead>\n",
       "  <tbody>\n",
       "    <tr>\n",
       "      <th>0</th>\n",
       "      <td>2</td>\n",
       "      <td>B00813GRG4</td>\n",
       "      <td>A1D87F6ZCVE5NK</td>\n",
       "      <td>1</td>\n",
       "      <td>Not as Advertised</td>\n",
       "      <td>Product arrived labeled as Jumbo Salted Peanut...</td>\n",
       "    </tr>\n",
       "    <tr>\n",
       "      <th>1</th>\n",
       "      <td>5</td>\n",
       "      <td>B006K2ZZ7K</td>\n",
       "      <td>A1UQRSCLF8GW1T</td>\n",
       "      <td>5</td>\n",
       "      <td>Great taffy</td>\n",
       "      <td>Great taffy at a great price.  There was a wid...</td>\n",
       "    </tr>\n",
       "    <tr>\n",
       "      <th>2</th>\n",
       "      <td>10</td>\n",
       "      <td>B00171APVA</td>\n",
       "      <td>A21BT40VZCCYT4</td>\n",
       "      <td>5</td>\n",
       "      <td>Healthy Dog Food</td>\n",
       "      <td>This is a very healthy dog food. Good for thei...</td>\n",
       "    </tr>\n",
       "    <tr>\n",
       "      <th>3</th>\n",
       "      <td>17</td>\n",
       "      <td>B001GVISJM</td>\n",
       "      <td>A3KLWF6WQ5BNYO</td>\n",
       "      <td>2</td>\n",
       "      <td>poor taste</td>\n",
       "      <td>I love eating them and they are good for watch...</td>\n",
       "    </tr>\n",
       "    <tr>\n",
       "      <th>4</th>\n",
       "      <td>39</td>\n",
       "      <td>B001EO5QW8</td>\n",
       "      <td>A2GHZ2UTV2B0CD</td>\n",
       "      <td>4</td>\n",
       "      <td>GOOD WAY TO START THE DAY....</td>\n",
       "      <td>I WAS VISITING MY FRIEND NATE THE OTHER MORNIN...</td>\n",
       "    </tr>\n",
       "    <tr>\n",
       "      <th>...</th>\n",
       "      <td>...</td>\n",
       "      <td>...</td>\n",
       "      <td>...</td>\n",
       "      <td>...</td>\n",
       "      <td>...</td>\n",
       "      <td>...</td>\n",
       "    </tr>\n",
       "    <tr>\n",
       "      <th>30360</th>\n",
       "      <td>568383</td>\n",
       "      <td>B000H28ABW</td>\n",
       "      <td>A1TZXENU9QMGQE</td>\n",
       "      <td>5</td>\n",
       "      <td>Best buy 4 your money</td>\n",
       "      <td>I purchased a packet of the taco seasoning and...</td>\n",
       "    </tr>\n",
       "    <tr>\n",
       "      <th>30361</th>\n",
       "      <td>568405</td>\n",
       "      <td>B005OTVL8C</td>\n",
       "      <td>A1UJMVE0LCOI45</td>\n",
       "      <td>5</td>\n",
       "      <td>great flavor boost</td>\n",
       "      <td>If you want to add a hint of Meyer lemon flavo...</td>\n",
       "    </tr>\n",
       "    <tr>\n",
       "      <th>30362</th>\n",
       "      <td>568415</td>\n",
       "      <td>B0002ARMS6</td>\n",
       "      <td>ALMANY3CKWVH7</td>\n",
       "      <td>5</td>\n",
       "      <td>Exotic food</td>\n",
       "      <td>This is always a good product for Exotic Cats....</td>\n",
       "    </tr>\n",
       "    <tr>\n",
       "      <th>30363</th>\n",
       "      <td>568420</td>\n",
       "      <td>B001F2GDJY</td>\n",
       "      <td>A2IN568FEHYSQ8</td>\n",
       "      <td>5</td>\n",
       "      <td>really works!</td>\n",
       "      <td>I have been using this product for two years n...</td>\n",
       "    </tr>\n",
       "    <tr>\n",
       "      <th>30364</th>\n",
       "      <td>568421</td>\n",
       "      <td>B004BY23I8</td>\n",
       "      <td>A2B07RJZVDUJA5</td>\n",
       "      <td>4</td>\n",
       "      <td>Co-co-yummy!</td>\n",
       "      <td>Love the coconut flavor of this tea.  Two thin...</td>\n",
       "    </tr>\n",
       "  </tbody>\n",
       "</table>\n",
       "<p>30365 rows × 6 columns</p>\n",
       "</div>"
      ],
      "text/plain": [
       "           Id   ProductId          UserId  Score  \\\n",
       "0           2  B00813GRG4  A1D87F6ZCVE5NK      1   \n",
       "1           5  B006K2ZZ7K  A1UQRSCLF8GW1T      5   \n",
       "2          10  B00171APVA  A21BT40VZCCYT4      5   \n",
       "3          17  B001GVISJM  A3KLWF6WQ5BNYO      2   \n",
       "4          39  B001EO5QW8  A2GHZ2UTV2B0CD      4   \n",
       "...       ...         ...             ...    ...   \n",
       "30360  568383  B000H28ABW  A1TZXENU9QMGQE      5   \n",
       "30361  568405  B005OTVL8C  A1UJMVE0LCOI45      5   \n",
       "30362  568415  B0002ARMS6   ALMANY3CKWVH7      5   \n",
       "30363  568420  B001F2GDJY  A2IN568FEHYSQ8      5   \n",
       "30364  568421  B004BY23I8  A2B07RJZVDUJA5      4   \n",
       "\n",
       "                             Summary  \\\n",
       "0                  Not as Advertised   \n",
       "1                        Great taffy   \n",
       "2                   Healthy Dog Food   \n",
       "3                         poor taste   \n",
       "4      GOOD WAY TO START THE DAY....   \n",
       "...                              ...   \n",
       "30360          Best buy 4 your money   \n",
       "30361             great flavor boost   \n",
       "30362                    Exotic food   \n",
       "30363                  really works!   \n",
       "30364                   Co-co-yummy!   \n",
       "\n",
       "                                                    Text  \n",
       "0      Product arrived labeled as Jumbo Salted Peanut...  \n",
       "1      Great taffy at a great price.  There was a wid...  \n",
       "2      This is a very healthy dog food. Good for thei...  \n",
       "3      I love eating them and they are good for watch...  \n",
       "4      I WAS VISITING MY FRIEND NATE THE OTHER MORNIN...  \n",
       "...                                                  ...  \n",
       "30360  I purchased a packet of the taco seasoning and...  \n",
       "30361  If you want to add a hint of Meyer lemon flavo...  \n",
       "30362  This is always a good product for Exotic Cats....  \n",
       "30363  I have been using this product for two years n...  \n",
       "30364  Love the coconut flavor of this tea.  Two thin...  \n",
       "\n",
       "[30365 rows x 6 columns]"
      ]
     },
     "execution_count": 904,
     "metadata": {},
     "output_type": "execute_result"
    }
   ],
   "source": [
    "# Reading the data and putting it into a table\n",
    "import pandas as pd\n",
    "df = pd.read_csv('dataset.csv')\n",
    "\n",
    "# Dropping the irrelevant columns\n",
    "df = df.drop('ProfileName', axis=1)\n",
    "df = df.drop('HelpfulnessNumerator', axis=1)\n",
    "df = df.drop('HelpfulnessDenominator', axis=1)\n",
    "df = df.drop('Time', axis=1)\n",
    "df"
   ]
  },
  {
   "cell_type": "code",
   "execution_count": 905,
   "id": "e2329cb9",
   "metadata": {},
   "outputs": [
    {
     "data": {
      "text/html": [
       "<div>\n",
       "<style scoped>\n",
       "    .dataframe tbody tr th:only-of-type {\n",
       "        vertical-align: middle;\n",
       "    }\n",
       "\n",
       "    .dataframe tbody tr th {\n",
       "        vertical-align: top;\n",
       "    }\n",
       "\n",
       "    .dataframe thead th {\n",
       "        text-align: right;\n",
       "    }\n",
       "</style>\n",
       "<table border=\"1\" class=\"dataframe\">\n",
       "  <thead>\n",
       "    <tr style=\"text-align: right;\">\n",
       "      <th></th>\n",
       "      <th>Id</th>\n",
       "      <th>ProductId</th>\n",
       "      <th>UserId</th>\n",
       "      <th>Score</th>\n",
       "      <th>Summary</th>\n",
       "      <th>Text</th>\n",
       "      <th>Label</th>\n",
       "    </tr>\n",
       "  </thead>\n",
       "  <tbody>\n",
       "    <tr>\n",
       "      <th>0</th>\n",
       "      <td>2</td>\n",
       "      <td>B00813GRG4</td>\n",
       "      <td>A1D87F6ZCVE5NK</td>\n",
       "      <td>1</td>\n",
       "      <td>Not as Advertised</td>\n",
       "      <td>Product arrived labeled as Jumbo Salted Peanut...</td>\n",
       "      <td>neg</td>\n",
       "    </tr>\n",
       "    <tr>\n",
       "      <th>1</th>\n",
       "      <td>5</td>\n",
       "      <td>B006K2ZZ7K</td>\n",
       "      <td>A1UQRSCLF8GW1T</td>\n",
       "      <td>5</td>\n",
       "      <td>Great taffy</td>\n",
       "      <td>Great taffy at a great price.  There was a wid...</td>\n",
       "      <td>pos</td>\n",
       "    </tr>\n",
       "    <tr>\n",
       "      <th>2</th>\n",
       "      <td>10</td>\n",
       "      <td>B00171APVA</td>\n",
       "      <td>A21BT40VZCCYT4</td>\n",
       "      <td>5</td>\n",
       "      <td>Healthy Dog Food</td>\n",
       "      <td>This is a very healthy dog food. Good for thei...</td>\n",
       "      <td>pos</td>\n",
       "    </tr>\n",
       "    <tr>\n",
       "      <th>3</th>\n",
       "      <td>17</td>\n",
       "      <td>B001GVISJM</td>\n",
       "      <td>A3KLWF6WQ5BNYO</td>\n",
       "      <td>2</td>\n",
       "      <td>poor taste</td>\n",
       "      <td>I love eating them and they are good for watch...</td>\n",
       "      <td>neg</td>\n",
       "    </tr>\n",
       "    <tr>\n",
       "      <th>4</th>\n",
       "      <td>39</td>\n",
       "      <td>B001EO5QW8</td>\n",
       "      <td>A2GHZ2UTV2B0CD</td>\n",
       "      <td>4</td>\n",
       "      <td>GOOD WAY TO START THE DAY....</td>\n",
       "      <td>I WAS VISITING MY FRIEND NATE THE OTHER MORNIN...</td>\n",
       "      <td>pos</td>\n",
       "    </tr>\n",
       "    <tr>\n",
       "      <th>...</th>\n",
       "      <td>...</td>\n",
       "      <td>...</td>\n",
       "      <td>...</td>\n",
       "      <td>...</td>\n",
       "      <td>...</td>\n",
       "      <td>...</td>\n",
       "      <td>...</td>\n",
       "    </tr>\n",
       "    <tr>\n",
       "      <th>30360</th>\n",
       "      <td>568383</td>\n",
       "      <td>B000H28ABW</td>\n",
       "      <td>A1TZXENU9QMGQE</td>\n",
       "      <td>5</td>\n",
       "      <td>Best buy 4 your money</td>\n",
       "      <td>I purchased a packet of the taco seasoning and...</td>\n",
       "      <td>pos</td>\n",
       "    </tr>\n",
       "    <tr>\n",
       "      <th>30361</th>\n",
       "      <td>568405</td>\n",
       "      <td>B005OTVL8C</td>\n",
       "      <td>A1UJMVE0LCOI45</td>\n",
       "      <td>5</td>\n",
       "      <td>great flavor boost</td>\n",
       "      <td>If you want to add a hint of Meyer lemon flavo...</td>\n",
       "      <td>pos</td>\n",
       "    </tr>\n",
       "    <tr>\n",
       "      <th>30362</th>\n",
       "      <td>568415</td>\n",
       "      <td>B0002ARMS6</td>\n",
       "      <td>ALMANY3CKWVH7</td>\n",
       "      <td>5</td>\n",
       "      <td>Exotic food</td>\n",
       "      <td>This is always a good product for Exotic Cats....</td>\n",
       "      <td>pos</td>\n",
       "    </tr>\n",
       "    <tr>\n",
       "      <th>30363</th>\n",
       "      <td>568420</td>\n",
       "      <td>B001F2GDJY</td>\n",
       "      <td>A2IN568FEHYSQ8</td>\n",
       "      <td>5</td>\n",
       "      <td>really works!</td>\n",
       "      <td>I have been using this product for two years n...</td>\n",
       "      <td>pos</td>\n",
       "    </tr>\n",
       "    <tr>\n",
       "      <th>30364</th>\n",
       "      <td>568421</td>\n",
       "      <td>B004BY23I8</td>\n",
       "      <td>A2B07RJZVDUJA5</td>\n",
       "      <td>4</td>\n",
       "      <td>Co-co-yummy!</td>\n",
       "      <td>Love the coconut flavor of this tea.  Two thin...</td>\n",
       "      <td>pos</td>\n",
       "    </tr>\n",
       "  </tbody>\n",
       "</table>\n",
       "<p>28054 rows × 7 columns</p>\n",
       "</div>"
      ],
      "text/plain": [
       "           Id   ProductId          UserId  Score  \\\n",
       "0           2  B00813GRG4  A1D87F6ZCVE5NK      1   \n",
       "1           5  B006K2ZZ7K  A1UQRSCLF8GW1T      5   \n",
       "2          10  B00171APVA  A21BT40VZCCYT4      5   \n",
       "3          17  B001GVISJM  A3KLWF6WQ5BNYO      2   \n",
       "4          39  B001EO5QW8  A2GHZ2UTV2B0CD      4   \n",
       "...       ...         ...             ...    ...   \n",
       "30360  568383  B000H28ABW  A1TZXENU9QMGQE      5   \n",
       "30361  568405  B005OTVL8C  A1UJMVE0LCOI45      5   \n",
       "30362  568415  B0002ARMS6   ALMANY3CKWVH7      5   \n",
       "30363  568420  B001F2GDJY  A2IN568FEHYSQ8      5   \n",
       "30364  568421  B004BY23I8  A2B07RJZVDUJA5      4   \n",
       "\n",
       "                             Summary  \\\n",
       "0                  Not as Advertised   \n",
       "1                        Great taffy   \n",
       "2                   Healthy Dog Food   \n",
       "3                         poor taste   \n",
       "4      GOOD WAY TO START THE DAY....   \n",
       "...                              ...   \n",
       "30360          Best buy 4 your money   \n",
       "30361             great flavor boost   \n",
       "30362                    Exotic food   \n",
       "30363                  really works!   \n",
       "30364                   Co-co-yummy!   \n",
       "\n",
       "                                                    Text Label  \n",
       "0      Product arrived labeled as Jumbo Salted Peanut...   neg  \n",
       "1      Great taffy at a great price.  There was a wid...   pos  \n",
       "2      This is a very healthy dog food. Good for thei...   pos  \n",
       "3      I love eating them and they are good for watch...   neg  \n",
       "4      I WAS VISITING MY FRIEND NATE THE OTHER MORNIN...   pos  \n",
       "...                                                  ...   ...  \n",
       "30360  I purchased a packet of the taco seasoning and...   pos  \n",
       "30361  If you want to add a hint of Meyer lemon flavo...   pos  \n",
       "30362  This is always a good product for Exotic Cats....   pos  \n",
       "30363  I have been using this product for two years n...   pos  \n",
       "30364  Love the coconut flavor of this tea.  Two thin...   pos  \n",
       "\n",
       "[28054 rows x 7 columns]"
      ]
     },
     "execution_count": 905,
     "metadata": {},
     "output_type": "execute_result"
    }
   ],
   "source": [
    "# Function to assign labels depending on the Score value\n",
    "def annotate (row):\n",
    "    if row['Score'] == 4:\n",
    "        return 'pos'\n",
    "    if row['Score'] == 5:\n",
    "        return 'pos'\n",
    "    if row['Score'] == 1:\n",
    "        return 'neg'\n",
    "    if row['Score'] == 2:\n",
    "        return 'neg'\n",
    "    if row['Score'] == 3:\n",
    "        return\n",
    "    \n",
    "# Applying the function to the dataframe\n",
    "df['Label'] = df.apply(annotate, axis=1)\n",
    "\n",
    "# Dropping the rows with score 3\n",
    "df.drop(df[df.Score == 3].index, inplace=True)\n",
    "df"
   ]
  },
  {
   "cell_type": "code",
   "execution_count": 906,
   "id": "8f3c7ba2",
   "metadata": {},
   "outputs": [
    {
     "data": {
      "text/html": [
       "<div>\n",
       "<style scoped>\n",
       "    .dataframe tbody tr th:only-of-type {\n",
       "        vertical-align: middle;\n",
       "    }\n",
       "\n",
       "    .dataframe tbody tr th {\n",
       "        vertical-align: top;\n",
       "    }\n",
       "\n",
       "    .dataframe thead th {\n",
       "        text-align: right;\n",
       "    }\n",
       "</style>\n",
       "<table border=\"1\" class=\"dataframe\">\n",
       "  <thead>\n",
       "    <tr style=\"text-align: right;\">\n",
       "      <th></th>\n",
       "      <th>Id</th>\n",
       "      <th>Score</th>\n",
       "    </tr>\n",
       "  </thead>\n",
       "  <tbody>\n",
       "    <tr>\n",
       "      <th>count</th>\n",
       "      <td>28054.000000</td>\n",
       "      <td>28054.000000</td>\n",
       "    </tr>\n",
       "    <tr>\n",
       "      <th>mean</th>\n",
       "      <td>265010.744885</td>\n",
       "      <td>4.233122</td>\n",
       "    </tr>\n",
       "    <tr>\n",
       "      <th>std</th>\n",
       "      <td>166710.612339</td>\n",
       "      <td>1.373777</td>\n",
       "    </tr>\n",
       "    <tr>\n",
       "      <th>min</th>\n",
       "      <td>2.000000</td>\n",
       "      <td>1.000000</td>\n",
       "    </tr>\n",
       "    <tr>\n",
       "      <th>25%</th>\n",
       "      <td>114602.500000</td>\n",
       "      <td>4.000000</td>\n",
       "    </tr>\n",
       "    <tr>\n",
       "      <th>50%</th>\n",
       "      <td>254278.500000</td>\n",
       "      <td>5.000000</td>\n",
       "    </tr>\n",
       "    <tr>\n",
       "      <th>75%</th>\n",
       "      <td>410060.250000</td>\n",
       "      <td>5.000000</td>\n",
       "    </tr>\n",
       "    <tr>\n",
       "      <th>max</th>\n",
       "      <td>568421.000000</td>\n",
       "      <td>5.000000</td>\n",
       "    </tr>\n",
       "  </tbody>\n",
       "</table>\n",
       "</div>"
      ],
      "text/plain": [
       "                  Id         Score\n",
       "count   28054.000000  28054.000000\n",
       "mean   265010.744885      4.233122\n",
       "std    166710.612339      1.373777\n",
       "min         2.000000      1.000000\n",
       "25%    114602.500000      4.000000\n",
       "50%    254278.500000      5.000000\n",
       "75%    410060.250000      5.000000\n",
       "max    568421.000000      5.000000"
      ]
     },
     "execution_count": 906,
     "metadata": {},
     "output_type": "execute_result"
    }
   ],
   "source": [
    "df.describe()"
   ]
  },
  {
   "cell_type": "code",
   "execution_count": 907,
   "id": "249ba50a",
   "metadata": {},
   "outputs": [
    {
     "data": {
      "text/plain": [
       "pos    23228\n",
       "neg     4826\n",
       "Name: Label, dtype: int64"
      ]
     },
     "execution_count": 907,
     "metadata": {},
     "output_type": "execute_result"
    }
   ],
   "source": [
    "df.Label.value_counts()"
   ]
  },
  {
   "attachments": {},
   "cell_type": "markdown",
   "id": "a7b14dd3",
   "metadata": {},
   "source": [
    "There are 23228 positive reviews and 4826 negative reviews in the dataset, so considerably more positive reviews than the negative ones."
   ]
  },
  {
   "attachments": {},
   "cell_type": "markdown",
   "id": "23791342",
   "metadata": {},
   "source": [
    "## 2. Data Cleaning"
   ]
  },
  {
   "cell_type": "code",
   "execution_count": 908,
   "id": "c000f704",
   "metadata": {},
   "outputs": [
    {
     "data": {
      "text/plain": [
       "\"This wasn't in stock the last time I looked. I had to go to the Vermont Country Store in Weston to find it along with a jaw harp, Cranberry Horseradish Sauce, Fartless Black Bean Salsa, Apple Cider Jelly, Newton's Cradle Art in Motion and the staple Vermont Maple Syrup.<br /><br />Back to the Ass Kickin Peanuts. They are hot. They will activate the perspiration glands behind your ears and under your arms. It requires a beverage as advertised, a glass of very cold milk, and a box of Kleenex since it will make your nose run. They look like ordinary peanuts which is already giving me ideas for work. I suspect that some people have been hitting my goodies in my absence, especially my colleague Greg. I'm going to take this to work at earliest opportunity and empty the contents of this can into an ordinary Planters Peanuts can, and then see whose crying or whose nose is running when I return.<br /><br />The can should be shaken to ensure the spices are evenly distributed. It is important to wash your hands after consumption and not touch the eyes.<br /><br />You'll go nuts over these Ass-Kickin' Peanuts.<br /><br />P.S. I'm not sharing the peanuts, not deliberately, and I'll probably give Greg the jaw harp for Christmas. He'll be so insulted.\""
      ]
     },
     "execution_count": 908,
     "metadata": {},
     "output_type": "execute_result"
    }
   ],
   "source": [
    "df.loc[5, 'Text']"
   ]
  },
  {
   "cell_type": "code",
   "execution_count": 909,
   "id": "787b8d10",
   "metadata": {},
   "outputs": [
    {
     "data": {
      "text/plain": [
       "\"This may sound rediculous, but I actually ordered the wrong brand of potato chips when I ordered these Kettle-brand jalapeno chips.  At the time I placed my order, I couldn't remember the name of the jalapeno chips that I had recently discovered and liked, and the Kettle-brand chips were packaged in a similarly-colored bag.  But, it all worked out for the best because I do really like the Kettle-brand of jalapeno chips, and will happily munch away on them during upcoming TV football games.  When I run out (probably sometime next year!), I will likey purchase Miss Vicky brand of jalapeno chips, and I plan to try the other flavors of Kettle-brand chips.  Imho, Kettle-brand chips are excellent and I recommend them to all potato chip 'affection-ados'.<br /><br />Sincerely,<br /><br />  § homiedog §\""
      ]
     },
     "execution_count": 909,
     "metadata": {},
     "output_type": "execute_result"
    }
   ],
   "source": [
    "df.loc[47, 'Text']"
   ]
  },
  {
   "attachments": {},
   "cell_type": "markdown",
   "id": "839b7604",
   "metadata": {},
   "source": [
    "We can see from the above two text examples that there are a lot of unusual characters in the text, such as '\\<br />\\' and '§'. These unusual characters are irrelevant elements to the sentiment anaylsis and should be removed to improve the training accuracy of the model. To do so, we can write a function that can be applied to the text. The function will use regex to detect certain unusual elements that we want to remove from the text."
   ]
  },
  {
   "cell_type": "code",
   "execution_count": 910,
   "id": "977c5396",
   "metadata": {},
   "outputs": [],
   "source": [
    "import re\n",
    "\n",
    "# Function to clean the review text using regex\n",
    "def clean_text(text):\n",
    "    \n",
    "    # Regex for removing hyperlinks\n",
    "    text = re.sub(r\"https:[\\S]+\", \" \", text)\n",
    "    \n",
    "    # Regex for removing break rows\n",
    "    text = re.sub(r\"<br\\s*[\\/]?>\", \" \", text)\n",
    "    \n",
    "    # Regex for removing new line characters (\\n)\n",
    "    text = re.sub(r\"\\\\n\",\" \", text)\n",
    "    \n",
    "    # Regex for removing unusual characters\n",
    "    text = re.sub(r\"[^A-Za-z*'-]+\", \" \", text)\n",
    "    \n",
    "    # Regex for removing hashtags\n",
    "    text = re.sub(r\"#[\\S]+\", \" \", text)\n",
    "    \n",
    "    # Regex for removing @-mentions\n",
    "    text = re.sub(r\"@[\\S]+\", \" \", text)\n",
    "    \n",
    "    # Converting each alphabet of the text to lowercase\n",
    "    text = text.lower().strip()\n",
    "    \n",
    "    return text"
   ]
  },
  {
   "cell_type": "code",
   "execution_count": 911,
   "id": "2d6d7de4",
   "metadata": {},
   "outputs": [
    {
     "data": {
      "text/plain": [
       "\"this wasn't in stock the last time i looked i had to go to the vermont country store in weston to find it along with a jaw harp cranberry horseradish sauce fartless black bean salsa apple cider jelly newton's cradle art in motion and the staple vermont maple syrup back to the ass kickin peanuts they are hot they will activate the perspiration glands behind your ears and under your arms it requires a beverage as advertised a glass of very cold milk and a box of kleenex since it will make your nose run they look like ordinary peanuts which is already giving me ideas for work i suspect that some people have been hitting my goodies in my absence especially my colleague greg i'm going to take this to work at earliest opportunity and empty the contents of this can into an ordinary planters peanuts can and then see whose crying or whose nose is running when i return the can should be shaken to ensure the spices are evenly distributed it is important to wash your hands after consumption and not touch the eyes you'll go nuts over these ass-kickin' peanuts p s i'm not sharing the peanuts not deliberately and i'll probably give greg the jaw harp for christmas he'll be so insulted\""
      ]
     },
     "execution_count": 911,
     "metadata": {},
     "output_type": "execute_result"
    }
   ],
   "source": [
    "df[\"Text\"] = df[\"Text\"].apply(clean_text)\n",
    "df.loc[5, 'Text']"
   ]
  },
  {
   "cell_type": "code",
   "execution_count": 912,
   "id": "7887bf2e",
   "metadata": {},
   "outputs": [
    {
     "data": {
      "text/plain": [
       "\"this may sound rediculous but i actually ordered the wrong brand of potato chips when i ordered these kettle-brand jalapeno chips at the time i placed my order i couldn't remember the name of the jalapeno chips that i had recently discovered and liked and the kettle-brand chips were packaged in a similarly-colored bag but it all worked out for the best because i do really like the kettle-brand of jalapeno chips and will happily munch away on them during upcoming tv football games when i run out probably sometime next year i will likey purchase miss vicky brand of jalapeno chips and i plan to try the other flavors of kettle-brand chips imho kettle-brand chips are excellent and i recommend them to all potato chip 'affection-ados' sincerely homiedog\""
      ]
     },
     "execution_count": 912,
     "metadata": {},
     "output_type": "execute_result"
    }
   ],
   "source": [
    "df.loc[47, 'Text']"
   ]
  },
  {
   "attachments": {},
   "cell_type": "markdown",
   "id": "dcadc9c6",
   "metadata": {},
   "source": [
    "## 3. Building a Logistic Regression Text Classifier"
   ]
  },
  {
   "cell_type": "code",
   "execution_count": 913,
   "id": "0ef608a9",
   "metadata": {},
   "outputs": [],
   "source": [
    "import numpy as np\n",
    "from sklearn.model_selection import train_test_split\n",
    "\n",
    "# Random state is applied to make the data reproducible.\n",
    "random_state = np.random.RandomState(0)"
   ]
  },
  {
   "cell_type": "code",
   "execution_count": 914,
   "id": "b92cabe2",
   "metadata": {},
   "outputs": [],
   "source": [
    "# X will be the independent variable, and y will be the dependent variable.\n",
    "X = df[\"Text\"]\n",
    "y = df[\"Label\"]\n",
    "\n",
    "# Split the data to two, where 70% will be used for training, and 30% will be used for testing.\n",
    "X_train, X_test, y_train, y_test = train_test_split(X, y, test_size=0.3, shuffle=True, random_state=random_state)"
   ]
  },
  {
   "cell_type": "code",
   "execution_count": 915,
   "id": "a3bb2533",
   "metadata": {},
   "outputs": [
    {
     "name": "stderr",
     "output_type": "stream",
     "text": [
      "[nltk_data] Downloading package stopwords to C:\\Users\\Johanes\n",
      "[nltk_data]     Steven\\AppData\\Roaming\\nltk_data...\n",
      "[nltk_data]   Package stopwords is already up-to-date!\n"
     ]
    }
   ],
   "source": [
    "from sklearn.feature_extraction.text import CountVectorizer\n",
    "import nltk\n",
    "nltk.download('stopwords')\n",
    "from nltk.corpus import stopwords\n",
    "stop_words = stopwords.words('english')\n",
    "stop_words.extend([\n",
    "    'browser', \n",
    "    'firefox', \n",
    "    'focus', \n",
    "    'tea',\n",
    "    'make',\n",
    "    'app', \n",
    "    'amazon', \n",
    "    'one', \n",
    "    'taste', \n",
    "    'product', \n",
    "    'flavor',\n",
    "    'coffee',\n",
    "    'would'\n",
    "])"
   ]
  },
  {
   "cell_type": "code",
   "execution_count": 916,
   "id": "be6b1179",
   "metadata": {},
   "outputs": [
    {
     "data": {
      "text/html": [
       "<div>\n",
       "<style scoped>\n",
       "    .dataframe tbody tr th:only-of-type {\n",
       "        vertical-align: middle;\n",
       "    }\n",
       "\n",
       "    .dataframe tbody tr th {\n",
       "        vertical-align: top;\n",
       "    }\n",
       "\n",
       "    .dataframe thead th {\n",
       "        text-align: right;\n",
       "    }\n",
       "</style>\n",
       "<table border=\"1\" class=\"dataframe\">\n",
       "  <thead>\n",
       "    <tr style=\"text-align: right;\">\n",
       "      <th></th>\n",
       "      <th>0</th>\n",
       "      <th>1</th>\n",
       "      <th>2</th>\n",
       "      <th>3</th>\n",
       "      <th>4</th>\n",
       "      <th>5</th>\n",
       "      <th>6</th>\n",
       "      <th>7</th>\n",
       "      <th>8</th>\n",
       "      <th>9</th>\n",
       "      <th>...</th>\n",
       "      <th>19627</th>\n",
       "      <th>19628</th>\n",
       "      <th>19629</th>\n",
       "      <th>19630</th>\n",
       "      <th>19631</th>\n",
       "      <th>19632</th>\n",
       "      <th>19633</th>\n",
       "      <th>19634</th>\n",
       "      <th>19635</th>\n",
       "      <th>19636</th>\n",
       "    </tr>\n",
       "  </thead>\n",
       "  <tbody>\n",
       "    <tr>\n",
       "      <th>able</th>\n",
       "      <td>0</td>\n",
       "      <td>0</td>\n",
       "      <td>0</td>\n",
       "      <td>0</td>\n",
       "      <td>0</td>\n",
       "      <td>0</td>\n",
       "      <td>0</td>\n",
       "      <td>0</td>\n",
       "      <td>0</td>\n",
       "      <td>0</td>\n",
       "      <td>...</td>\n",
       "      <td>0</td>\n",
       "      <td>0</td>\n",
       "      <td>0</td>\n",
       "      <td>1</td>\n",
       "      <td>0</td>\n",
       "      <td>1</td>\n",
       "      <td>0</td>\n",
       "      <td>0</td>\n",
       "      <td>0</td>\n",
       "      <td>0</td>\n",
       "    </tr>\n",
       "    <tr>\n",
       "      <th>absolutely</th>\n",
       "      <td>0</td>\n",
       "      <td>0</td>\n",
       "      <td>0</td>\n",
       "      <td>0</td>\n",
       "      <td>0</td>\n",
       "      <td>0</td>\n",
       "      <td>0</td>\n",
       "      <td>0</td>\n",
       "      <td>0</td>\n",
       "      <td>0</td>\n",
       "      <td>...</td>\n",
       "      <td>0</td>\n",
       "      <td>0</td>\n",
       "      <td>3</td>\n",
       "      <td>0</td>\n",
       "      <td>0</td>\n",
       "      <td>0</td>\n",
       "      <td>0</td>\n",
       "      <td>0</td>\n",
       "      <td>0</td>\n",
       "      <td>0</td>\n",
       "    </tr>\n",
       "    <tr>\n",
       "      <th>actually</th>\n",
       "      <td>0</td>\n",
       "      <td>0</td>\n",
       "      <td>0</td>\n",
       "      <td>0</td>\n",
       "      <td>0</td>\n",
       "      <td>0</td>\n",
       "      <td>0</td>\n",
       "      <td>1</td>\n",
       "      <td>0</td>\n",
       "      <td>0</td>\n",
       "      <td>...</td>\n",
       "      <td>0</td>\n",
       "      <td>0</td>\n",
       "      <td>0</td>\n",
       "      <td>0</td>\n",
       "      <td>0</td>\n",
       "      <td>1</td>\n",
       "      <td>0</td>\n",
       "      <td>0</td>\n",
       "      <td>0</td>\n",
       "      <td>0</td>\n",
       "    </tr>\n",
       "    <tr>\n",
       "      <th>add</th>\n",
       "      <td>0</td>\n",
       "      <td>0</td>\n",
       "      <td>0</td>\n",
       "      <td>0</td>\n",
       "      <td>0</td>\n",
       "      <td>0</td>\n",
       "      <td>0</td>\n",
       "      <td>0</td>\n",
       "      <td>0</td>\n",
       "      <td>1</td>\n",
       "      <td>...</td>\n",
       "      <td>0</td>\n",
       "      <td>0</td>\n",
       "      <td>0</td>\n",
       "      <td>0</td>\n",
       "      <td>0</td>\n",
       "      <td>0</td>\n",
       "      <td>0</td>\n",
       "      <td>1</td>\n",
       "      <td>0</td>\n",
       "      <td>0</td>\n",
       "    </tr>\n",
       "    <tr>\n",
       "      <th>added</th>\n",
       "      <td>0</td>\n",
       "      <td>0</td>\n",
       "      <td>0</td>\n",
       "      <td>0</td>\n",
       "      <td>0</td>\n",
       "      <td>0</td>\n",
       "      <td>0</td>\n",
       "      <td>0</td>\n",
       "      <td>0</td>\n",
       "      <td>0</td>\n",
       "      <td>...</td>\n",
       "      <td>0</td>\n",
       "      <td>0</td>\n",
       "      <td>0</td>\n",
       "      <td>0</td>\n",
       "      <td>0</td>\n",
       "      <td>0</td>\n",
       "      <td>0</td>\n",
       "      <td>0</td>\n",
       "      <td>0</td>\n",
       "      <td>0</td>\n",
       "    </tr>\n",
       "    <tr>\n",
       "      <th>...</th>\n",
       "      <td>...</td>\n",
       "      <td>...</td>\n",
       "      <td>...</td>\n",
       "      <td>...</td>\n",
       "      <td>...</td>\n",
       "      <td>...</td>\n",
       "      <td>...</td>\n",
       "      <td>...</td>\n",
       "      <td>...</td>\n",
       "      <td>...</td>\n",
       "      <td>...</td>\n",
       "      <td>...</td>\n",
       "      <td>...</td>\n",
       "      <td>...</td>\n",
       "      <td>...</td>\n",
       "      <td>...</td>\n",
       "      <td>...</td>\n",
       "      <td>...</td>\n",
       "      <td>...</td>\n",
       "      <td>...</td>\n",
       "      <td>...</td>\n",
       "    </tr>\n",
       "    <tr>\n",
       "      <th>year</th>\n",
       "      <td>0</td>\n",
       "      <td>0</td>\n",
       "      <td>0</td>\n",
       "      <td>0</td>\n",
       "      <td>0</td>\n",
       "      <td>0</td>\n",
       "      <td>0</td>\n",
       "      <td>0</td>\n",
       "      <td>0</td>\n",
       "      <td>0</td>\n",
       "      <td>...</td>\n",
       "      <td>0</td>\n",
       "      <td>0</td>\n",
       "      <td>0</td>\n",
       "      <td>0</td>\n",
       "      <td>0</td>\n",
       "      <td>0</td>\n",
       "      <td>0</td>\n",
       "      <td>0</td>\n",
       "      <td>0</td>\n",
       "      <td>0</td>\n",
       "    </tr>\n",
       "    <tr>\n",
       "      <th>years</th>\n",
       "      <td>0</td>\n",
       "      <td>0</td>\n",
       "      <td>0</td>\n",
       "      <td>0</td>\n",
       "      <td>0</td>\n",
       "      <td>1</td>\n",
       "      <td>0</td>\n",
       "      <td>0</td>\n",
       "      <td>0</td>\n",
       "      <td>0</td>\n",
       "      <td>...</td>\n",
       "      <td>0</td>\n",
       "      <td>0</td>\n",
       "      <td>0</td>\n",
       "      <td>0</td>\n",
       "      <td>0</td>\n",
       "      <td>0</td>\n",
       "      <td>0</td>\n",
       "      <td>0</td>\n",
       "      <td>0</td>\n",
       "      <td>0</td>\n",
       "    </tr>\n",
       "    <tr>\n",
       "      <th>yes</th>\n",
       "      <td>0</td>\n",
       "      <td>0</td>\n",
       "      <td>0</td>\n",
       "      <td>0</td>\n",
       "      <td>0</td>\n",
       "      <td>0</td>\n",
       "      <td>0</td>\n",
       "      <td>0</td>\n",
       "      <td>0</td>\n",
       "      <td>0</td>\n",
       "      <td>...</td>\n",
       "      <td>0</td>\n",
       "      <td>0</td>\n",
       "      <td>0</td>\n",
       "      <td>0</td>\n",
       "      <td>0</td>\n",
       "      <td>0</td>\n",
       "      <td>0</td>\n",
       "      <td>0</td>\n",
       "      <td>0</td>\n",
       "      <td>0</td>\n",
       "    </tr>\n",
       "    <tr>\n",
       "      <th>yet</th>\n",
       "      <td>0</td>\n",
       "      <td>0</td>\n",
       "      <td>0</td>\n",
       "      <td>0</td>\n",
       "      <td>0</td>\n",
       "      <td>0</td>\n",
       "      <td>0</td>\n",
       "      <td>0</td>\n",
       "      <td>0</td>\n",
       "      <td>0</td>\n",
       "      <td>...</td>\n",
       "      <td>0</td>\n",
       "      <td>0</td>\n",
       "      <td>0</td>\n",
       "      <td>0</td>\n",
       "      <td>0</td>\n",
       "      <td>1</td>\n",
       "      <td>0</td>\n",
       "      <td>0</td>\n",
       "      <td>0</td>\n",
       "      <td>0</td>\n",
       "    </tr>\n",
       "    <tr>\n",
       "      <th>yummy</th>\n",
       "      <td>0</td>\n",
       "      <td>0</td>\n",
       "      <td>0</td>\n",
       "      <td>0</td>\n",
       "      <td>0</td>\n",
       "      <td>0</td>\n",
       "      <td>0</td>\n",
       "      <td>0</td>\n",
       "      <td>0</td>\n",
       "      <td>0</td>\n",
       "      <td>...</td>\n",
       "      <td>0</td>\n",
       "      <td>0</td>\n",
       "      <td>0</td>\n",
       "      <td>0</td>\n",
       "      <td>0</td>\n",
       "      <td>0</td>\n",
       "      <td>0</td>\n",
       "      <td>0</td>\n",
       "      <td>0</td>\n",
       "      <td>0</td>\n",
       "    </tr>\n",
       "  </tbody>\n",
       "</table>\n",
       "<p>603 rows × 19637 columns</p>\n",
       "</div>"
      ],
      "text/plain": [
       "            0      1      2      3      4      5      6      7      8      \\\n",
       "able            0      0      0      0      0      0      0      0      0   \n",
       "absolutely      0      0      0      0      0      0      0      0      0   \n",
       "actually        0      0      0      0      0      0      0      1      0   \n",
       "add             0      0      0      0      0      0      0      0      0   \n",
       "added           0      0      0      0      0      0      0      0      0   \n",
       "...           ...    ...    ...    ...    ...    ...    ...    ...    ...   \n",
       "year            0      0      0      0      0      0      0      0      0   \n",
       "years           0      0      0      0      0      1      0      0      0   \n",
       "yes             0      0      0      0      0      0      0      0      0   \n",
       "yet             0      0      0      0      0      0      0      0      0   \n",
       "yummy           0      0      0      0      0      0      0      0      0   \n",
       "\n",
       "            9      ...  19627  19628  19629  19630  19631  19632  19633  \\\n",
       "able            0  ...      0      0      0      1      0      1      0   \n",
       "absolutely      0  ...      0      0      3      0      0      0      0   \n",
       "actually        0  ...      0      0      0      0      0      1      0   \n",
       "add             1  ...      0      0      0      0      0      0      0   \n",
       "added           0  ...      0      0      0      0      0      0      0   \n",
       "...           ...  ...    ...    ...    ...    ...    ...    ...    ...   \n",
       "year            0  ...      0      0      0      0      0      0      0   \n",
       "years           0  ...      0      0      0      0      0      0      0   \n",
       "yes             0  ...      0      0      0      0      0      0      0   \n",
       "yet             0  ...      0      0      0      0      0      1      0   \n",
       "yummy           0  ...      0      0      0      0      0      0      0   \n",
       "\n",
       "            19634  19635  19636  \n",
       "able            0      0      0  \n",
       "absolutely      0      0      0  \n",
       "actually        0      0      0  \n",
       "add             1      0      0  \n",
       "added           0      0      0  \n",
       "...           ...    ...    ...  \n",
       "year            0      0      0  \n",
       "years           0      0      0  \n",
       "yes             0      0      0  \n",
       "yet             0      0      0  \n",
       "yummy           0      0      0  \n",
       "\n",
       "[603 rows x 19637 columns]"
      ]
     },
     "execution_count": 916,
     "metadata": {},
     "output_type": "execute_result"
    }
   ],
   "source": [
    "# Initialize an instance of the CountVectorizer object\n",
    "# The vectorizer will exclude words that occur in only 1% of reviews.\n",
    "vectorizer = CountVectorizer(stop_words=stop_words, min_df=0.01)\n",
    "\n",
    "# Fit the training dataset and the vectorizer.\n",
    "vectorizer.fit(X_train)\n",
    "\n",
    "# Vectorizer is used to get the BOW (Bag of Words) that represent the text in numerical form so that-\n",
    "# logistic regression can handle them.\n",
    "X_train_BOW = vectorizer.transform(X_train)\n",
    "\n",
    "# We can visualize the BOW into a dataframe so that we can see them\n",
    "training_data_BOW = pd.DataFrame(data=X_train_BOW.toarray(), columns=vectorizer.get_feature_names()).T\n",
    "training_data_BOW"
   ]
  },
  {
   "cell_type": "code",
   "execution_count": 917,
   "id": "53fa983a",
   "metadata": {},
   "outputs": [
    {
     "data": {
      "text/plain": [
       "pos    16234\n",
       "neg     3403\n",
       "Name: Label, dtype: int64"
      ]
     },
     "execution_count": 917,
     "metadata": {},
     "output_type": "execute_result"
    }
   ],
   "source": [
    "# Identifying which value is most common in the training dataset.\n",
    "y_train.value_counts()"
   ]
  },
  {
   "cell_type": "code",
   "execution_count": 918,
   "id": "a9008814",
   "metadata": {},
   "outputs": [],
   "source": [
    "# Create the baseline predictions which only contains the most common value, which is 'pos'\n",
    "y_test_baseline_predictions = pd.Series(['pos']*len(y_test))"
   ]
  },
  {
   "cell_type": "code",
   "execution_count": 919,
   "id": "ff29227d",
   "metadata": {},
   "outputs": [
    {
     "data": {
      "text/plain": [
       "LogisticRegression(max_iter=1000,\n",
       "                   random_state=RandomState(MT19937) at 0x23842305640)"
      ]
     },
     "execution_count": 919,
     "metadata": {},
     "output_type": "execute_result"
    }
   ],
   "source": [
    "from sklearn.linear_model import LogisticRegression\n",
    "# Creating an instance of Logistic Regression object.\n",
    "log_reg = LogisticRegression(random_state=random_state, max_iter=1000)\n",
    "\n",
    "# Fitting the created model to the training dataset\n",
    "log_reg.fit(X_train_BOW, y_train)"
   ]
  },
  {
   "cell_type": "code",
   "execution_count": 920,
   "id": "9b300063",
   "metadata": {},
   "outputs": [
    {
     "data": {
      "text/plain": [
       "array(['pos', 'pos', 'pos', ..., 'pos', 'pos', 'pos'], dtype=object)"
      ]
     },
     "execution_count": 920,
     "metadata": {},
     "output_type": "execute_result"
    }
   ],
   "source": [
    "# Using the model to predict the test dataset.\n",
    "# Creating the BOW for the test dataset.\n",
    "X_test_BOW = vectorizer.transform(X_test)\n",
    "\n",
    "# The Logistic Regression object is used to predict the values of the dependent variable of the test dataset.\n",
    "y_test_log_reg_predictions = log_reg.predict(X_test_BOW)\n",
    "\n",
    "# We can look at the predicted values in array form.\n",
    "y_test_log_reg_predictions"
   ]
  },
  {
   "attachments": {},
   "cell_type": "markdown",
   "id": "abb45606",
   "metadata": {},
   "source": [
    "### Build a logistic regression text classifier to categorise whether review has positive or negative sentiment. 70% of the reviews should be used for training and the remaining 30% for the testing. List the steps taken in your own words to build the model in less than 4 lines.\n",
    "\n",
    "The model is trained using 70% of the overall data, while the 30% will be used to test the prediction of the model (the split is done using train_test_split). We then need to transform the independent variables of the training dataset and test dataset into a numerical value that can be handled by logistic regression (in this case we are using BOW from the CountVectorizer). The BOW is then fit into an instance of LogisticRegression. The resulting Logistic Regression model is then used to predict the values of the test dataset."
   ]
  },
  {
   "attachments": {},
   "cell_type": "markdown",
   "id": "5cb9c3b1",
   "metadata": {},
   "source": [
    "## Data Analysis"
   ]
  },
  {
   "cell_type": "code",
   "execution_count": 921,
   "id": "50de0746",
   "metadata": {},
   "outputs": [],
   "source": [
    "# Calculating the accuracy of the baseline predictions (All 'pos')\n",
    "from sklearn.metrics import accuracy_score\n",
    "baseline_accuracy = accuracy_score(y_test, y_test_baseline_predictions)"
   ]
  },
  {
   "cell_type": "code",
   "execution_count": 922,
   "id": "fb3b0a33",
   "metadata": {},
   "outputs": [],
   "source": [
    "# Calculating the accuracy of the LogisticRegression model that we have created\n",
    "model_accuracy = accuracy_score(y_test, y_test_log_reg_predictions)"
   ]
  },
  {
   "cell_type": "code",
   "execution_count": 923,
   "id": "9b699ff9",
   "metadata": {},
   "outputs": [
    {
     "name": "stdout",
     "output_type": "stream",
     "text": [
      "Confusion matrix for baseline model:\n"
     ]
    },
    {
     "data": {
      "image/png": "[encoded data removed]",
      "text/plain": [
       "<Figure size 432x288 with 2 Axes>"
      ]
     },
     "metadata": {
      "needs_background": "light"
     },
     "output_type": "display_data"
    }
   ],
   "source": [
    "from sklearn.metrics import ConfusionMatrixDisplay, confusion_matrix\n",
    "\n",
    "cm = confusion_matrix(y_test, y_test_baseline_predictions)\n",
    "display = ConfusionMatrixDisplay(confusion_matrix=cm, display_labels=log_reg.classes_)\n",
    "print(\"Confusion matrix for baseline model:\")\n",
    "display.plot();"
   ]
  },
  {
   "cell_type": "code",
   "execution_count": 924,
   "id": "28115aa5",
   "metadata": {},
   "outputs": [
    {
     "name": "stdout",
     "output_type": "stream",
     "text": [
      "Confusion matrix for logisticregression model:\n"
     ]
    },
    {
     "data": {
      "image/png": "[encoded data removed]",
      "text/plain": [
       "<Figure size 432x288 with 2 Axes>"
      ]
     },
     "metadata": {
      "needs_background": "light"
     },
     "output_type": "display_data"
    }
   ],
   "source": [
    "cm = confusion_matrix(y_test, y_test_log_reg_predictions)\n",
    "display = ConfusionMatrixDisplay(confusion_matrix=cm, display_labels=log_reg.classes_)\n",
    "print(\"Confusion matrix for logisticregression model:\")\n",
    "display.plot();"
   ]
  },
  {
   "cell_type": "code",
   "execution_count": 925,
   "id": "6ea932de",
   "metadata": {},
   "outputs": [],
   "source": [
    "from sklearn.metrics import precision_score\n",
    "\n",
    "# Calculate precision for the baseline prediction (only for the negative)\n",
    "# Zero_division warning is turned off, because there are no True Negatives and no False Negatives (divisor is zero)\n",
    "baseline_precision = precision_score(y_test, y_test_baseline_predictions, pos_label='neg', zero_division=0)"
   ]
  },
  {
   "cell_type": "code",
   "execution_count": 926,
   "id": "2be85207",
   "metadata": {},
   "outputs": [],
   "source": [
    "# Calculate precision for the baseline prediction (only for the negative)\n",
    "model_precision = precision_score(y_test, y_test_log_reg_predictions, pos_label='neg', zero_division=0)"
   ]
  },
  {
   "cell_type": "code",
   "execution_count": 927,
   "id": "f468d73c",
   "metadata": {},
   "outputs": [],
   "source": [
    "from sklearn.metrics import recall_score\n",
    "\n",
    "# Calculate recall score for the baseline prediction (only for the negative)\n",
    "baseline_recall = recall_score(y_test, y_test_baseline_predictions, pos_label='neg')"
   ]
  },
  {
   "cell_type": "code",
   "execution_count": 928,
   "id": "2560c903",
   "metadata": {},
   "outputs": [],
   "source": [
    "# Calculate recall score for the model prediction (only for the negative)\n",
    "model_recall = recall_score(y_test, y_test_log_reg_predictions, pos_label='neg')"
   ]
  },
  {
   "cell_type": "code",
   "execution_count": 929,
   "id": "7a49d32b",
   "metadata": {},
   "outputs": [],
   "source": [
    "from sklearn.metrics import f1_score\n",
    "\n",
    "# Calculate F1 score for the baseline prediction (only for the negative)\n",
    "baseline_f1 = f1_score(y_test, y_test_baseline_predictions, pos_label='neg')"
   ]
  },
  {
   "cell_type": "code",
   "execution_count": 930,
   "id": "f2b76dfb",
   "metadata": {},
   "outputs": [],
   "source": [
    "# Calculate F1 score for the model prediction (only for the negative)\n",
    "model_f1 = f1_score(y_test, y_test_log_reg_predictions, pos_label='neg')"
   ]
  },
  {
   "cell_type": "code",
   "execution_count": 931,
   "id": "a2a83d17",
   "metadata": {},
   "outputs": [
    {
     "name": "stdout",
     "output_type": "stream",
     "text": [
      "Baseline: {‘accuracy’:0.83, ‘precision’:0.00, ’recall’:0.00, ‘f1-score’:0.00}\n",
      "LogisticRegression: {‘accuracy’:0.88, ‘precision’:0.71, ’recall’:0.54, ‘f1-score’:0.61}\n"
     ]
    }
   ],
   "source": [
    "print(\"Baseline: {‘accuracy’:%1.2f, ‘precision’:%1.2f, ’recall’:%1.2f, ‘f1-score’:%1.2f}\" % (baseline_accuracy, baseline_precision, baseline_recall, baseline_f1))\n",
    "print(\"LogisticRegression: {‘accuracy’:%1.2f, ‘precision’:%1.2f, ’recall’:%1.2f, ‘f1-score’:%1.2f}\" % (model_accuracy, model_precision, model_recall, model_f1))"
   ]
  },
  {
   "attachments": {},
   "cell_type": "markdown",
   "id": "2740c006",
   "metadata": {},
   "source": [
    "### Explain the cause of difference between the accuracy and the f1 score of the negative class for the baseline model.\n",
    "\n",
    "Accuracy is the measure of how much correct predictions the model makes out of all predictions. In this case, the baseline model makes a lot of accurate predictions because they are all set to the positive and the original data is heavily skewed towards the positive. The F1 score however depends on the recall and the precision. Since the precision and the recall of the negative class of the baseline model are 0 (no negatives on the baseline), therefore the F1 score of the negative class of the baseline model is 0, which will result in a much different value compared to the accuracy."
   ]
  },
  {
   "cell_type": "code",
   "execution_count": 932,
   "id": "fbb72097",
   "metadata": {},
   "outputs": [
    {
     "data": {
      "text/html": [
       "<div>\n",
       "<style scoped>\n",
       "    .dataframe tbody tr th:only-of-type {\n",
       "        vertical-align: middle;\n",
       "    }\n",
       "\n",
       "    .dataframe tbody tr th {\n",
       "        vertical-align: top;\n",
       "    }\n",
       "\n",
       "    .dataframe thead th {\n",
       "        text-align: right;\n",
       "    }\n",
       "</style>\n",
       "<table border=\"1\" class=\"dataframe\">\n",
       "  <thead>\n",
       "    <tr style=\"text-align: right;\">\n",
       "      <th></th>\n",
       "      <th>Id</th>\n",
       "      <th>Text</th>\n",
       "      <th>Model Prediction</th>\n",
       "    </tr>\n",
       "  </thead>\n",
       "  <tbody>\n",
       "    <tr>\n",
       "      <th>0</th>\n",
       "      <td>1</td>\n",
       "      <td>the candy is tasty but they totally scam you o...</td>\n",
       "      <td>neg</td>\n",
       "    </tr>\n",
       "    <tr>\n",
       "      <th>1</th>\n",
       "      <td>2</td>\n",
       "      <td>i had been looking for the violet candy with t...</td>\n",
       "      <td>pos</td>\n",
       "    </tr>\n",
       "    <tr>\n",
       "      <th>2</th>\n",
       "      <td>3</td>\n",
       "      <td>these are very pricey so i only enjoy them now...</td>\n",
       "      <td>pos</td>\n",
       "    </tr>\n",
       "    <tr>\n",
       "      <th>3</th>\n",
       "      <td>4</td>\n",
       "      <td>these candies have a mild flavor when compared...</td>\n",
       "      <td>pos</td>\n",
       "    </tr>\n",
       "    <tr>\n",
       "      <th>4</th>\n",
       "      <td>5</td>\n",
       "      <td>this product is a bit pricey for the amt recei...</td>\n",
       "      <td>pos</td>\n",
       "    </tr>\n",
       "  </tbody>\n",
       "</table>\n",
       "</div>"
      ],
      "text/plain": [
       "   Id                                               Text Model Prediction\n",
       "0   1  the candy is tasty but they totally scam you o...              neg\n",
       "1   2  i had been looking for the violet candy with t...              pos\n",
       "2   3  these are very pricey so i only enjoy them now...              pos\n",
       "3   4  these candies have a mild flavor when compared...              pos\n",
       "4   5  this product is a bit pricey for the amt recei...              pos"
      ]
     },
     "execution_count": 932,
     "metadata": {},
     "output_type": "execute_result"
    }
   ],
   "source": [
    "# Applying the model to predict the data in predictdata.csv\n",
    "df2 = pd.read_csv('predictdata.csv')\n",
    "df2[\"Text\"] = df2[\"Text\"].apply(clean_text)\n",
    "X_test_BOW = vectorizer.transform(df2[\"Text\"])\n",
    "\n",
    "df2['Model Prediction'] = log_reg.predict(X_test_BOW)\n",
    "df2"
   ]
  },
  {
   "cell_type": "code",
   "execution_count": 933,
   "id": "43defe77",
   "metadata": {},
   "outputs": [
    {
     "name": "stdout",
     "output_type": "stream",
     "text": [
      "Requirement already satisfied: wordcloud in c:\\programdata\\anaconda3\\lib\\site-packages (1.8.2.2)\n",
      "Requirement already satisfied: numpy>=1.6.1 in c:\\programdata\\anaconda3\\lib\\site-packages (from wordcloud) (1.19.5)\n",
      "Requirement already satisfied: pillow in c:\\programdata\\anaconda3\\lib\\site-packages (from wordcloud) (8.2.0)\n",
      "Requirement already satisfied: matplotlib in c:\\programdata\\anaconda3\\lib\\site-packages (from wordcloud) (3.4.2)\n",
      "Requirement already satisfied: kiwisolver>=1.0.1 in c:\\programdata\\anaconda3\\lib\\site-packages (from matplotlib->wordcloud) (1.3.1)\n",
      "Requirement already satisfied: cycler>=0.10 in c:\\programdata\\anaconda3\\lib\\site-packages (from matplotlib->wordcloud) (0.10.0)\n",
      "Requirement already satisfied: pyparsing>=2.2.1 in c:\\programdata\\anaconda3\\lib\\site-packages (from matplotlib->wordcloud) (2.4.7)\n",
      "Requirement already satisfied: python-dateutil>=2.7 in c:\\programdata\\anaconda3\\lib\\site-packages (from matplotlib->wordcloud) (2.8.1)\n",
      "Requirement already satisfied: six in c:\\programdata\\anaconda3\\lib\\site-packages (from cycler>=0.10->matplotlib->wordcloud) (1.15.0)\n"
     ]
    }
   ],
   "source": [
    "!pip install wordcloud\n",
    "from wordcloud import WordCloud\n",
    "from matplotlib import pyplot as plt\n",
    "\n",
    "# function adapted from https://aneesha.medium.com/visualising-top-features-in-linear-svm-with-scikit-learn-and-matplotlib-3454ab18a14d\n",
    "def plot_coefficients(classifier, feature_names, top_features=10):\n",
    "    coef = classifier.coef_.ravel()\n",
    "    top_positive_coefficients = np.argsort(coef)[-top_features:]\n",
    "    top_negative_coefficients = np.argsort(coef)[:top_features]\n",
    "    top_coefficients = np.hstack([top_negative_coefficients, top_positive_coefficients])\n",
    "    # create plot\n",
    "    plt.figure(figsize=(15, 5))\n",
    "    colors = ['red' if c < 0 else 'blue' for c in coef[top_coefficients]]\n",
    "    plt.bar(np.arange(2 * top_features), coef[top_coefficients], color=colors)\n",
    "    feature_names = np.array(feature_names)\n",
    "    plt.xticks(np.arange(0, 2 * top_features), feature_names[top_coefficients], rotation=90, ha='right')\n",
    "    plt.xlabel(\"Important Words\")\n",
    "    plt.ylabel(\"Model Coefficient\")\n",
    "    plt.title(\"Important words with their model coefficient\")\n",
    "    plt.show()"
   ]
  },
  {
   "cell_type": "code",
   "execution_count": 934,
   "id": "6081ffd8",
   "metadata": {},
   "outputs": [
    {
     "data": {
      "image/png": "[encoded data removed]",
      "text/plain": [
       "<Figure size 1080x360 with 1 Axes>"
      ]
     },
     "metadata": {
      "needs_background": "light"
     },
     "output_type": "display_data"
    }
   ],
   "source": [
    "plot_coefficients(log_reg, vectorizer.get_feature_names())"
   ]
  },
  {
   "attachments": {},
   "cell_type": "markdown",
   "id": "eb79fc22",
   "metadata": {},
   "source": [
    "The above words show that some of the words that play the most significant role in deciding a positive review are 'awesome', 'perfect' and 'excellent', while some of the words that play the most significant role in deciding a negative review are 'disappointed', 'waste', and 'unfortunately'."
   ]
  },
  {
   "cell_type": "code",
   "execution_count": 935,
   "id": "8563f772",
   "metadata": {},
   "outputs": [
    {
     "data": {
      "image/png": "[encoded data removed]",
      "text/plain": [
       "<Figure size 432x288 with 1 Axes>"
      ]
     },
     "metadata": {
      "needs_background": "light"
     },
     "output_type": "display_data"
    }
   ],
   "source": [
    "text = \" \".join(X_train)\n",
    "word_cloud = WordCloud(stopwords=set(stop_words)).generate(text)\n",
    "plt.imshow(word_cloud, interpolation='bilinear');"
   ]
  },
  {
   "attachments": {},
   "cell_type": "markdown",
   "id": "5bf9e1a1",
   "metadata": {},
   "source": [
    "The word cloud shows that the most common words include 'like', 'love', and 'good'. These words have positive connotations and is most likely to be common due to the data's skewness towards positive reviews."
   ]
  },
  {
   "attachments": {},
   "cell_type": "markdown",
   "id": "8b23bee7",
   "metadata": {},
   "source": [
    "### Write in three lines with your own words about classification with unbalanced data. What is the issue with unbalanced data and how you could handle it in a better way (you don’t need to implement your solution)? Provide the issue with imbalanced classification and your suggestion in less than 4 sentences that reader can understand clearly using research fromthe internet resources. \n",
    "The issue with imbalanced data is that it causes bias in the model towards the dominant value (meaning that the model will be more likely to predict 'pos' in this case). Some of the easiest ways to handle this issue is to use oversampling (meaning multiplying the lesser value, 'neg' in this case, so that it is closer to the dominant value in number) or undersampling (meaning to lessen the dominant value in number, so that it is closer to the lesser value in number). Both of these methods aim to lessen the gap between dominant and lesser values to more 'balance' the data."
   ]
  }
 ],
 "metadata": {
  "kernelspec": {
   "display_name": "Python 3 (ipykernel)",
   "language": "python",
   "name": "python3"
  },
  "language_info": {
   "codemirror_mode": {
    "name": "ipython",
    "version": 3
   },
   "file_extension": ".py",
   "mimetype": "text/x-python",
   "name": "python",
   "nbconvert_exporter": "python",
   "pygments_lexer": "ipython3",
   "version": "3.7.9"
  }
 },
 "nbformat": 4,
 "nbformat_minor": 5
}
